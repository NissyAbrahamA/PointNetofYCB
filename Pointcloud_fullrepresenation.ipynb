{
 "cells": [
  {
   "cell_type": "code",
   "execution_count": 4,
   "id": "f397d73f",
   "metadata": {},
   "outputs": [],
   "source": [
    "import open3d as o3d\n",
    "\n",
    "# Read the object names from the file\n",
    "with open(\"objects.txt\", \"r\") as file:\n",
    "    object_names = file.read().splitlines()\n",
    "\n",
    "\n"
   ]
  },
  {
   "cell_type": "code",
   "execution_count": 8,
   "id": "6c8dc6a2",
   "metadata": {},
   "outputs": [
    {
     "name": "stdout",
     "output_type": "stream",
     "text": [
      "Point cloud saved: C:/Users/anizy/OneDrive - Aston University/Desktop/Dissertation/pointcloud/models/ycb/002_master_chef_can/google_16k/002_master_chef_can_pointcloud.ply\n",
      "Point cloud saved: C:/Users/anizy/OneDrive - Aston University/Desktop/Dissertation/pointcloud/models/ycb/003_cracker_box/google_16k/003_cracker_box_pointcloud.ply\n",
      "Point cloud saved: C:/Users/anizy/OneDrive - Aston University/Desktop/Dissertation/pointcloud/models/ycb/004_sugar_box/google_16k/004_sugar_box_pointcloud.ply\n",
      "Point cloud saved: C:/Users/anizy/OneDrive - Aston University/Desktop/Dissertation/pointcloud/models/ycb/005_tomato_soup_can/google_16k/005_tomato_soup_can_pointcloud.ply\n",
      "Point cloud saved: C:/Users/anizy/OneDrive - Aston University/Desktop/Dissertation/pointcloud/models/ycb/006_mustard_bottle/google_16k/006_mustard_bottle_pointcloud.ply\n",
      "Point cloud saved: C:/Users/anizy/OneDrive - Aston University/Desktop/Dissertation/pointcloud/models/ycb/007_tuna_fish_can/google_16k/007_tuna_fish_can_pointcloud.ply\n",
      "Point cloud saved: C:/Users/anizy/OneDrive - Aston University/Desktop/Dissertation/pointcloud/models/ycb/008_pudding_box/google_16k/008_pudding_box_pointcloud.ply\n",
      "Point cloud saved: C:/Users/anizy/OneDrive - Aston University/Desktop/Dissertation/pointcloud/models/ycb/009_gelatin_box/google_16k/009_gelatin_box_pointcloud.ply\n",
      "Point cloud saved: C:/Users/anizy/OneDrive - Aston University/Desktop/Dissertation/pointcloud/models/ycb/010_potted_meat_can/google_16k/010_potted_meat_can_pointcloud.ply\n",
      "Point cloud saved: C:/Users/anizy/OneDrive - Aston University/Desktop/Dissertation/pointcloud/models/ycb/011_banana/google_16k/011_banana_pointcloud.ply\n",
      "Point cloud saved: C:/Users/anizy/OneDrive - Aston University/Desktop/Dissertation/pointcloud/models/ycb/012_strawberry/google_16k/012_strawberry_pointcloud.ply\n",
      "Point cloud saved: C:/Users/anizy/OneDrive - Aston University/Desktop/Dissertation/pointcloud/models/ycb/013_apple/google_16k/013_apple_pointcloud.ply\n",
      "Point cloud saved: C:/Users/anizy/OneDrive - Aston University/Desktop/Dissertation/pointcloud/models/ycb/014_lemon/google_16k/014_lemon_pointcloud.ply\n",
      "Point cloud saved: C:/Users/anizy/OneDrive - Aston University/Desktop/Dissertation/pointcloud/models/ycb/015_peach/google_16k/015_peach_pointcloud.ply\n",
      "Point cloud saved: C:/Users/anizy/OneDrive - Aston University/Desktop/Dissertation/pointcloud/models/ycb/016_pear/google_16k/016_pear_pointcloud.ply\n",
      "Point cloud saved: C:/Users/anizy/OneDrive - Aston University/Desktop/Dissertation/pointcloud/models/ycb/017_orange/google_16k/017_orange_pointcloud.ply\n",
      "Point cloud saved: C:/Users/anizy/OneDrive - Aston University/Desktop/Dissertation/pointcloud/models/ycb/018_plum/google_16k/018_plum_pointcloud.ply\n",
      "Point cloud saved: C:/Users/anizy/OneDrive - Aston University/Desktop/Dissertation/pointcloud/models/ycb/019_pitcher_base/google_16k/019_pitcher_base_pointcloud.ply\n",
      "Point cloud saved: C:/Users/anizy/OneDrive - Aston University/Desktop/Dissertation/pointcloud/models/ycb/021_bleach_cleanser/google_16k/021_bleach_cleanser_pointcloud.ply\n",
      "Point cloud saved: C:/Users/anizy/OneDrive - Aston University/Desktop/Dissertation/pointcloud/models/ycb/022_windex_bottle/google_16k/022_windex_bottle_pointcloud.ply\n",
      "Point cloud saved: C:/Users/anizy/OneDrive - Aston University/Desktop/Dissertation/pointcloud/models/ycb/024_bowl/google_16k/024_bowl_pointcloud.ply\n",
      "Point cloud saved: C:/Users/anizy/OneDrive - Aston University/Desktop/Dissertation/pointcloud/models/ycb/025_mug/google_16k/025_mug_pointcloud.ply\n",
      "Point cloud saved: C:/Users/anizy/OneDrive - Aston University/Desktop/Dissertation/pointcloud/models/ycb/026_sponge/google_16k/026_sponge_pointcloud.ply\n",
      "Point cloud saved: C:/Users/anizy/OneDrive - Aston University/Desktop/Dissertation/pointcloud/models/ycb/028_skillet_lid/google_16k/028_skillet_lid_pointcloud.ply\n",
      "Point cloud saved: C:/Users/anizy/OneDrive - Aston University/Desktop/Dissertation/pointcloud/models/ycb/029_plate/google_16k/029_plate_pointcloud.ply\n",
      "Point cloud saved: C:/Users/anizy/OneDrive - Aston University/Desktop/Dissertation/pointcloud/models/ycb/030_fork/google_16k/030_fork_pointcloud.ply\n",
      "Point cloud saved: C:/Users/anizy/OneDrive - Aston University/Desktop/Dissertation/pointcloud/models/ycb/031_spoon/google_16k/031_spoon_pointcloud.ply\n",
      "Point cloud saved: C:/Users/anizy/OneDrive - Aston University/Desktop/Dissertation/pointcloud/models/ycb/032_knife/google_16k/032_knife_pointcloud.ply\n",
      "Point cloud saved: C:/Users/anizy/OneDrive - Aston University/Desktop/Dissertation/pointcloud/models/ycb/033_spatula/google_16k/033_spatula_pointcloud.ply\n",
      "Point cloud saved: C:/Users/anizy/OneDrive - Aston University/Desktop/Dissertation/pointcloud/models/ycb/035_power_drill/google_16k/035_power_drill_pointcloud.ply\n",
      "Point cloud saved: C:/Users/anizy/OneDrive - Aston University/Desktop/Dissertation/pointcloud/models/ycb/036_wood_block/google_16k/036_wood_block_pointcloud.ply\n",
      "Point cloud saved: C:/Users/anizy/OneDrive - Aston University/Desktop/Dissertation/pointcloud/models/ycb/037_scissors/google_16k/037_scissors_pointcloud.ply\n",
      "Point cloud saved: C:/Users/anizy/OneDrive - Aston University/Desktop/Dissertation/pointcloud/models/ycb/038_padlock/google_16k/038_padlock_pointcloud.ply\n",
      "Point cloud saved: C:/Users/anizy/OneDrive - Aston University/Desktop/Dissertation/pointcloud/models/ycb/040_large_marker/google_16k/040_large_marker_pointcloud.ply\n",
      "Point cloud saved: C:/Users/anizy/OneDrive - Aston University/Desktop/Dissertation/pointcloud/models/ycb/042_adjustable_wrench/google_16k/042_adjustable_wrench_pointcloud.ply\n",
      "Point cloud saved: C:/Users/anizy/OneDrive - Aston University/Desktop/Dissertation/pointcloud/models/ycb/043_phillips_screwdriver/google_16k/043_phillips_screwdriver_pointcloud.ply\n",
      "Point cloud saved: C:/Users/anizy/OneDrive - Aston University/Desktop/Dissertation/pointcloud/models/ycb/044_flat_screwdriver/google_16k/044_flat_screwdriver_pointcloud.ply\n",
      "Point cloud saved: C:/Users/anizy/OneDrive - Aston University/Desktop/Dissertation/pointcloud/models/ycb/048_hammer/google_16k/048_hammer_pointcloud.ply\n",
      "Point cloud saved: C:/Users/anizy/OneDrive - Aston University/Desktop/Dissertation/pointcloud/models/ycb/050_medium_clamp/google_16k/050_medium_clamp_pointcloud.ply\n",
      "Point cloud saved: C:/Users/anizy/OneDrive - Aston University/Desktop/Dissertation/pointcloud/models/ycb/051_large_clamp/google_16k/051_large_clamp_pointcloud.ply\n",
      "Point cloud saved: C:/Users/anizy/OneDrive - Aston University/Desktop/Dissertation/pointcloud/models/ycb/052_extra_large_clamp/google_16k/052_extra_large_clamp_pointcloud.ply\n",
      "Point cloud saved: C:/Users/anizy/OneDrive - Aston University/Desktop/Dissertation/pointcloud/models/ycb/053_mini_soccer_ball/google_16k/053_mini_soccer_ball_pointcloud.ply\n",
      "Point cloud saved: C:/Users/anizy/OneDrive - Aston University/Desktop/Dissertation/pointcloud/models/ycb/054_softball/google_16k/054_softball_pointcloud.ply\n",
      "Point cloud saved: C:/Users/anizy/OneDrive - Aston University/Desktop/Dissertation/pointcloud/models/ycb/055_baseball/google_16k/055_baseball_pointcloud.ply\n",
      "Point cloud saved: C:/Users/anizy/OneDrive - Aston University/Desktop/Dissertation/pointcloud/models/ycb/056_tennis_ball/google_16k/056_tennis_ball_pointcloud.ply\n",
      "Point cloud saved: C:/Users/anizy/OneDrive - Aston University/Desktop/Dissertation/pointcloud/models/ycb/057_racquetball/google_16k/057_racquetball_pointcloud.ply\n",
      "Point cloud saved: C:/Users/anizy/OneDrive - Aston University/Desktop/Dissertation/pointcloud/models/ycb/058_golf_ball/google_16k/058_golf_ball_pointcloud.ply\n",
      "Point cloud saved: C:/Users/anizy/OneDrive - Aston University/Desktop/Dissertation/pointcloud/models/ycb/059_chain/google_16k/059_chain_pointcloud.ply\n",
      "Point cloud saved: C:/Users/anizy/OneDrive - Aston University/Desktop/Dissertation/pointcloud/models/ycb/061_foam_brick/google_16k/061_foam_brick_pointcloud.ply\n",
      "Point cloud saved: C:/Users/anizy/OneDrive - Aston University/Desktop/Dissertation/pointcloud/models/ycb/062_dice/google_16k/062_dice_pointcloud.ply\n",
      "Point cloud saved: C:/Users/anizy/OneDrive - Aston University/Desktop/Dissertation/pointcloud/models/ycb/063-a_marbles/google_16k/063-a_marbles_pointcloud.ply\n",
      "Point cloud saved: C:/Users/anizy/OneDrive - Aston University/Desktop/Dissertation/pointcloud/models/ycb/063-b_marbles/google_16k/063-b_marbles_pointcloud.ply\n"
     ]
    },
    {
     "name": "stdout",
     "output_type": "stream",
     "text": [
      "Point cloud saved: C:/Users/anizy/OneDrive - Aston University/Desktop/Dissertation/pointcloud/models/ycb/065-a_cups/google_16k/065-a_cups_pointcloud.ply\n",
      "Point cloud saved: C:/Users/anizy/OneDrive - Aston University/Desktop/Dissertation/pointcloud/models/ycb/065-b_cups/google_16k/065-b_cups_pointcloud.ply\n",
      "Point cloud saved: C:/Users/anizy/OneDrive - Aston University/Desktop/Dissertation/pointcloud/models/ycb/065-c_cups/google_16k/065-c_cups_pointcloud.ply\n",
      "Point cloud saved: C:/Users/anizy/OneDrive - Aston University/Desktop/Dissertation/pointcloud/models/ycb/065-d_cups/google_16k/065-d_cups_pointcloud.ply\n",
      "Point cloud saved: C:/Users/anizy/OneDrive - Aston University/Desktop/Dissertation/pointcloud/models/ycb/065-e_cups/google_16k/065-e_cups_pointcloud.ply\n",
      "Point cloud saved: C:/Users/anizy/OneDrive - Aston University/Desktop/Dissertation/pointcloud/models/ycb/065-f_cups/google_16k/065-f_cups_pointcloud.ply\n",
      "Point cloud saved: C:/Users/anizy/OneDrive - Aston University/Desktop/Dissertation/pointcloud/models/ycb/065-g_cups/google_16k/065-g_cups_pointcloud.ply\n",
      "Point cloud saved: C:/Users/anizy/OneDrive - Aston University/Desktop/Dissertation/pointcloud/models/ycb/065-h_cups/google_16k/065-h_cups_pointcloud.ply\n",
      "Point cloud saved: C:/Users/anizy/OneDrive - Aston University/Desktop/Dissertation/pointcloud/models/ycb/065-i_cups/google_16k/065-i_cups_pointcloud.ply\n",
      "Point cloud saved: C:/Users/anizy/OneDrive - Aston University/Desktop/Dissertation/pointcloud/models/ycb/065-j_cups/google_16k/065-j_cups_pointcloud.ply\n",
      "Point cloud saved: C:/Users/anizy/OneDrive - Aston University/Desktop/Dissertation/pointcloud/models/ycb/070-a_colored_wood_blocks/google_16k/070-a_colored_wood_blocks_pointcloud.ply\n",
      "Point cloud saved: C:/Users/anizy/OneDrive - Aston University/Desktop/Dissertation/pointcloud/models/ycb/070-b_colored_wood_blocks/google_16k/070-b_colored_wood_blocks_pointcloud.ply\n",
      "Point cloud saved: C:/Users/anizy/OneDrive - Aston University/Desktop/Dissertation/pointcloud/models/ycb/071_nine_hole_peg_test/google_16k/071_nine_hole_peg_test_pointcloud.ply\n",
      "Point cloud saved: C:/Users/anizy/OneDrive - Aston University/Desktop/Dissertation/pointcloud/models/ycb/072-a_toy_airplane/google_16k/072-a_toy_airplane_pointcloud.ply\n",
      "Point cloud saved: C:/Users/anizy/OneDrive - Aston University/Desktop/Dissertation/pointcloud/models/ycb/072-b_toy_airplane/google_16k/072-b_toy_airplane_pointcloud.ply\n",
      "Point cloud saved: C:/Users/anizy/OneDrive - Aston University/Desktop/Dissertation/pointcloud/models/ycb/072-c_toy_airplane/google_16k/072-c_toy_airplane_pointcloud.ply\n",
      "Point cloud saved: C:/Users/anizy/OneDrive - Aston University/Desktop/Dissertation/pointcloud/models/ycb/072-d_toy_airplane/google_16k/072-d_toy_airplane_pointcloud.ply\n",
      "Point cloud saved: C:/Users/anizy/OneDrive - Aston University/Desktop/Dissertation/pointcloud/models/ycb/072-e_toy_airplane/google_16k/072-e_toy_airplane_pointcloud.ply\n",
      "Point cloud saved: C:/Users/anizy/OneDrive - Aston University/Desktop/Dissertation/pointcloud/models/ycb/073-a_lego_duplo/google_16k/073-a_lego_duplo_pointcloud.ply\n",
      "Point cloud saved: C:/Users/anizy/OneDrive - Aston University/Desktop/Dissertation/pointcloud/models/ycb/073-b_lego_duplo/google_16k/073-b_lego_duplo_pointcloud.ply\n",
      "Point cloud saved: C:/Users/anizy/OneDrive - Aston University/Desktop/Dissertation/pointcloud/models/ycb/073-c_lego_duplo/google_16k/073-c_lego_duplo_pointcloud.ply\n",
      "Point cloud saved: C:/Users/anizy/OneDrive - Aston University/Desktop/Dissertation/pointcloud/models/ycb/073-d_lego_duplo/google_16k/073-d_lego_duplo_pointcloud.ply\n",
      "Point cloud saved: C:/Users/anizy/OneDrive - Aston University/Desktop/Dissertation/pointcloud/models/ycb/073-e_lego_duplo/google_16k/073-e_lego_duplo_pointcloud.ply\n",
      "Point cloud saved: C:/Users/anizy/OneDrive - Aston University/Desktop/Dissertation/pointcloud/models/ycb/073-f_lego_duplo/google_16k/073-f_lego_duplo_pointcloud.ply\n",
      "Point cloud saved: C:/Users/anizy/OneDrive - Aston University/Desktop/Dissertation/pointcloud/models/ycb/073-g_lego_duplo/google_16k/073-g_lego_duplo_pointcloud.ply\n",
      "Point cloud saved: C:/Users/anizy/OneDrive - Aston University/Desktop/Dissertation/pointcloud/models/ycb/077_rubiks_cube/google_16k/077_rubiks_cube_pointcloud.ply\n"
     ]
    }
   ],
   "source": [
    "for object_name in object_names:\n",
    "    # Construct the object file path\n",
    "    object_file = f\"C:/Users/anizy/OneDrive - Aston University/Desktop/Dissertation/pointcloud/models/ycb/{object_name}/google_16k/nontextured.ply\"\n",
    "\n",
    "    # Load the object mesh\n",
    "    mesh = o3d.io.read_triangle_mesh(object_file)\n",
    "\n",
    "    # Generate point cloud from the mesh\n",
    "    point_cloud = mesh.sample_points_uniformly(number_of_points=10000)\n",
    "\n",
    "    # Generate a unique filename for each point cloud\n",
    "    output_file = object_file.replace(\"nontextured.ply\", f\"{object_name}_pointcloud.ply\")\n",
    "\n",
    "\n",
    "    # Save the point cloud\n",
    "    o3d.io.write_point_cloud(output_file, point_cloud)\n",
    "\n",
    "    # Print the saved file path for reference\n",
    "    print(f\"Point cloud saved: {output_file}\")"
   ]
  },
  {
   "cell_type": "code",
   "execution_count": null,
   "id": "123657b4",
   "metadata": {},
   "outputs": [],
   "source": []
  }
 ],
 "metadata": {
  "kernelspec": {
   "display_name": "Python 3 (ipykernel)",
   "language": "python",
   "name": "python3"
  },
  "language_info": {
   "codemirror_mode": {
    "name": "ipython",
    "version": 3
   },
   "file_extension": ".py",
   "mimetype": "text/x-python",
   "name": "python",
   "nbconvert_exporter": "python",
   "pygments_lexer": "ipython3",
   "version": "3.10.9"
  }
 },
 "nbformat": 4,
 "nbformat_minor": 5
}
